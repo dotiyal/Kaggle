{
  "nbformat": 4,
  "nbformat_minor": 0,
  "metadata": {
    "colab": {
      "name": "Dealing_with_missing_values.ipynb",
      "provenance": [],
      "authorship_tag": "ABX9TyNZ3tluG0tTc6ay1vCR0YVw"
    },
    "kernelspec": {
      "name": "python3",
      "display_name": "Python 3"
    },
    "language_info": {
      "name": "python"
    }
  },
  "cells": [
    {
      "cell_type": "code",
      "metadata": {
        "id": "u3bQHK31D6S2"
      },
      "source": [
        "import pandas as pd\n",
        "from sklearn.model_selection import train_test_split\n",
        "\n",
        "# Load the data\n",
        "data = pd.read_csv('/content/sample_data/melb_data.csv')\n",
        "\n",
        "# Select target\n",
        "y = data.Price\n",
        "\n",
        "# To keep things simple, we'll use only numerical predictors\n",
        "melb_predictors = data.drop(['Price'], axis=1)\n",
        "X = melb_predictors.select_dtypes(exclude=['object'])\n",
        "\n",
        "# Divide data into training and validation subsets\n",
        "X_train, X_valid, y_train, y_valid = train_test_split(X, y, train_size=0.8, test_size=0.2, random_state=0)"
      ],
      "execution_count": 2,
      "outputs": []
    },
    {
      "cell_type": "code",
      "metadata": {
        "colab": {
          "base_uri": "https://localhost:8080/"
        },
        "id": "1BAKJhDkIMUf",
        "outputId": "be6fdf60-a05a-49eb-96b7-0fa473a87511"
      },
      "source": [
        "X_train.shape"
      ],
      "execution_count": 4,
      "outputs": [
        {
          "output_type": "execute_result",
          "data": {
            "text/plain": [
              "(10864, 12)"
            ]
          },
          "metadata": {
            "tags": []
          },
          "execution_count": 4
        }
      ]
    },
    {
      "cell_type": "code",
      "metadata": {
        "colab": {
          "base_uri": "https://localhost:8080/",
          "height": 419
        },
        "id": "0wJpFP1vG9tj",
        "outputId": "bf915bd2-78e2-482b-c9a1-23e040fcac84"
      },
      "source": [
        "X_train"
      ],
      "execution_count": 3,
      "outputs": [
        {
          "output_type": "execute_result",
          "data": {
            "text/html": [
              "<div>\n",
              "<style scoped>\n",
              "    .dataframe tbody tr th:only-of-type {\n",
              "        vertical-align: middle;\n",
              "    }\n",
              "\n",
              "    .dataframe tbody tr th {\n",
              "        vertical-align: top;\n",
              "    }\n",
              "\n",
              "    .dataframe thead th {\n",
              "        text-align: right;\n",
              "    }\n",
              "</style>\n",
              "<table border=\"1\" class=\"dataframe\">\n",
              "  <thead>\n",
              "    <tr style=\"text-align: right;\">\n",
              "      <th></th>\n",
              "      <th>Rooms</th>\n",
              "      <th>Distance</th>\n",
              "      <th>Postcode</th>\n",
              "      <th>Bedroom2</th>\n",
              "      <th>Bathroom</th>\n",
              "      <th>Car</th>\n",
              "      <th>Landsize</th>\n",
              "      <th>BuildingArea</th>\n",
              "      <th>YearBuilt</th>\n",
              "      <th>Lattitude</th>\n",
              "      <th>Longtitude</th>\n",
              "      <th>Propertycount</th>\n",
              "    </tr>\n",
              "  </thead>\n",
              "  <tbody>\n",
              "    <tr>\n",
              "      <th>12167</th>\n",
              "      <td>1</td>\n",
              "      <td>5.0</td>\n",
              "      <td>3182.0</td>\n",
              "      <td>1.0</td>\n",
              "      <td>1.0</td>\n",
              "      <td>1.0</td>\n",
              "      <td>0.0</td>\n",
              "      <td>NaN</td>\n",
              "      <td>1940.0</td>\n",
              "      <td>-37.85984</td>\n",
              "      <td>144.98670</td>\n",
              "      <td>13240.0</td>\n",
              "    </tr>\n",
              "    <tr>\n",
              "      <th>6524</th>\n",
              "      <td>2</td>\n",
              "      <td>8.0</td>\n",
              "      <td>3016.0</td>\n",
              "      <td>2.0</td>\n",
              "      <td>2.0</td>\n",
              "      <td>1.0</td>\n",
              "      <td>193.0</td>\n",
              "      <td>NaN</td>\n",
              "      <td>NaN</td>\n",
              "      <td>-37.85800</td>\n",
              "      <td>144.90050</td>\n",
              "      <td>6380.0</td>\n",
              "    </tr>\n",
              "    <tr>\n",
              "      <th>8413</th>\n",
              "      <td>3</td>\n",
              "      <td>12.6</td>\n",
              "      <td>3020.0</td>\n",
              "      <td>3.0</td>\n",
              "      <td>1.0</td>\n",
              "      <td>1.0</td>\n",
              "      <td>555.0</td>\n",
              "      <td>NaN</td>\n",
              "      <td>NaN</td>\n",
              "      <td>-37.79880</td>\n",
              "      <td>144.82200</td>\n",
              "      <td>3755.0</td>\n",
              "    </tr>\n",
              "    <tr>\n",
              "      <th>2919</th>\n",
              "      <td>3</td>\n",
              "      <td>13.0</td>\n",
              "      <td>3046.0</td>\n",
              "      <td>3.0</td>\n",
              "      <td>1.0</td>\n",
              "      <td>1.0</td>\n",
              "      <td>265.0</td>\n",
              "      <td>NaN</td>\n",
              "      <td>1995.0</td>\n",
              "      <td>-37.70830</td>\n",
              "      <td>144.91580</td>\n",
              "      <td>8870.0</td>\n",
              "    </tr>\n",
              "    <tr>\n",
              "      <th>6043</th>\n",
              "      <td>3</td>\n",
              "      <td>13.3</td>\n",
              "      <td>3020.0</td>\n",
              "      <td>3.0</td>\n",
              "      <td>1.0</td>\n",
              "      <td>2.0</td>\n",
              "      <td>673.0</td>\n",
              "      <td>673.0</td>\n",
              "      <td>1970.0</td>\n",
              "      <td>-37.76230</td>\n",
              "      <td>144.82720</td>\n",
              "      <td>4217.0</td>\n",
              "    </tr>\n",
              "    <tr>\n",
              "      <th>...</th>\n",
              "      <td>...</td>\n",
              "      <td>...</td>\n",
              "      <td>...</td>\n",
              "      <td>...</td>\n",
              "      <td>...</td>\n",
              "      <td>...</td>\n",
              "      <td>...</td>\n",
              "      <td>...</td>\n",
              "      <td>...</td>\n",
              "      <td>...</td>\n",
              "      <td>...</td>\n",
              "      <td>...</td>\n",
              "    </tr>\n",
              "    <tr>\n",
              "      <th>13123</th>\n",
              "      <td>3</td>\n",
              "      <td>5.2</td>\n",
              "      <td>3056.0</td>\n",
              "      <td>3.0</td>\n",
              "      <td>1.0</td>\n",
              "      <td>2.0</td>\n",
              "      <td>212.0</td>\n",
              "      <td>NaN</td>\n",
              "      <td>NaN</td>\n",
              "      <td>-37.77695</td>\n",
              "      <td>144.95785</td>\n",
              "      <td>11918.0</td>\n",
              "    </tr>\n",
              "    <tr>\n",
              "      <th>3264</th>\n",
              "      <td>3</td>\n",
              "      <td>10.5</td>\n",
              "      <td>3081.0</td>\n",
              "      <td>3.0</td>\n",
              "      <td>1.0</td>\n",
              "      <td>1.0</td>\n",
              "      <td>748.0</td>\n",
              "      <td>101.0</td>\n",
              "      <td>1950.0</td>\n",
              "      <td>-37.74160</td>\n",
              "      <td>145.04810</td>\n",
              "      <td>2947.0</td>\n",
              "    </tr>\n",
              "    <tr>\n",
              "      <th>9845</th>\n",
              "      <td>4</td>\n",
              "      <td>6.7</td>\n",
              "      <td>3058.0</td>\n",
              "      <td>4.0</td>\n",
              "      <td>2.0</td>\n",
              "      <td>2.0</td>\n",
              "      <td>441.0</td>\n",
              "      <td>255.0</td>\n",
              "      <td>2002.0</td>\n",
              "      <td>-37.73572</td>\n",
              "      <td>144.97256</td>\n",
              "      <td>11204.0</td>\n",
              "    </tr>\n",
              "    <tr>\n",
              "      <th>10799</th>\n",
              "      <td>3</td>\n",
              "      <td>12.0</td>\n",
              "      <td>3073.0</td>\n",
              "      <td>3.0</td>\n",
              "      <td>1.0</td>\n",
              "      <td>1.0</td>\n",
              "      <td>606.0</td>\n",
              "      <td>NaN</td>\n",
              "      <td>NaN</td>\n",
              "      <td>-37.72057</td>\n",
              "      <td>145.02615</td>\n",
              "      <td>21650.0</td>\n",
              "    </tr>\n",
              "    <tr>\n",
              "      <th>2732</th>\n",
              "      <td>4</td>\n",
              "      <td>6.4</td>\n",
              "      <td>3011.0</td>\n",
              "      <td>4.0</td>\n",
              "      <td>2.0</td>\n",
              "      <td>1.0</td>\n",
              "      <td>319.0</td>\n",
              "      <td>130.0</td>\n",
              "      <td>1915.0</td>\n",
              "      <td>-37.79430</td>\n",
              "      <td>144.88750</td>\n",
              "      <td>7570.0</td>\n",
              "    </tr>\n",
              "  </tbody>\n",
              "</table>\n",
              "<p>10864 rows × 12 columns</p>\n",
              "</div>"
            ],
            "text/plain": [
              "       Rooms  Distance  Postcode  ...  Lattitude  Longtitude  Propertycount\n",
              "12167      1       5.0    3182.0  ...  -37.85984   144.98670        13240.0\n",
              "6524       2       8.0    3016.0  ...  -37.85800   144.90050         6380.0\n",
              "8413       3      12.6    3020.0  ...  -37.79880   144.82200         3755.0\n",
              "2919       3      13.0    3046.0  ...  -37.70830   144.91580         8870.0\n",
              "6043       3      13.3    3020.0  ...  -37.76230   144.82720         4217.0\n",
              "...      ...       ...       ...  ...        ...         ...            ...\n",
              "13123      3       5.2    3056.0  ...  -37.77695   144.95785        11918.0\n",
              "3264       3      10.5    3081.0  ...  -37.74160   145.04810         2947.0\n",
              "9845       4       6.7    3058.0  ...  -37.73572   144.97256        11204.0\n",
              "10799      3      12.0    3073.0  ...  -37.72057   145.02615        21650.0\n",
              "2732       4       6.4    3011.0  ...  -37.79430   144.88750         7570.0\n",
              "\n",
              "[10864 rows x 12 columns]"
            ]
          },
          "metadata": {
            "tags": []
          },
          "execution_count": 3
        }
      ]
    },
    {
      "cell_type": "code",
      "metadata": {
        "colab": {
          "base_uri": "https://localhost:8080/"
        },
        "id": "yEG8XPKwIR6V",
        "outputId": "c0bcbbc0-1b42-45d0-cf84-4b074516291f"
      },
      "source": [
        "X_train.isnull().sum()"
      ],
      "execution_count": 5,
      "outputs": [
        {
          "output_type": "execute_result",
          "data": {
            "text/plain": [
              "Rooms               0\n",
              "Distance            0\n",
              "Postcode            0\n",
              "Bedroom2            0\n",
              "Bathroom            0\n",
              "Car                49\n",
              "Landsize            0\n",
              "BuildingArea     5156\n",
              "YearBuilt        4307\n",
              "Lattitude           0\n",
              "Longtitude          0\n",
              "Propertycount       0\n",
              "dtype: int64"
            ]
          },
          "metadata": {
            "tags": []
          },
          "execution_count": 5
        }
      ]
    },
    {
      "cell_type": "code",
      "metadata": {
        "id": "KWjWkT7PIhBG"
      },
      "source": [
        "from sklearn.ensemble import RandomForestRegressor\n",
        "from sklearn.metrics import mean_absolute_error\n",
        "\n",
        "# Function for comparing different approaches\n",
        "def score_dataset(X_train, X_valid, y_train, y_valid):\n",
        "    model = RandomForestRegressor(n_estimators=10, random_state=0)\n",
        "    model.fit(X_train, y_train)\n",
        "    preds = model.predict(X_valid)\n",
        "    return mean_absolute_error(y_valid, preds)"
      ],
      "execution_count": 6,
      "outputs": []
    },
    {
      "cell_type": "markdown",
      "metadata": {
        "id": "jGGxdBpKJK35"
      },
      "source": [
        "#Three Approaches"
      ]
    },
    {
      "cell_type": "markdown",
      "metadata": {
        "id": "eU-Kh03fJSgs"
      },
      "source": [
        "### 1- A Simple Option: Drop Columns with Missing Values"
      ]
    },
    {
      "cell_type": "code",
      "metadata": {
        "colab": {
          "base_uri": "https://localhost:8080/"
        },
        "id": "DRagJWHBIvq2",
        "outputId": "eb9174c4-5843-4172-8960-500956a36da9"
      },
      "source": [
        "# Get names of columns with missing values\n",
        "cols_with_missing = [col for col in X_train.columns\n",
        "                     if X_train[col].isnull().any()]\n",
        "\n",
        "# Drop columns in training and validation data\n",
        "reduced_X_train = X_train.drop(cols_with_missing, axis=1)\n",
        "reduced_X_valid = X_valid.drop(cols_with_missing, axis=1)\n",
        "\n",
        "print(\"MAE from Approach 1 (Drop columns with missing values):\")\n",
        "print(score_dataset(reduced_X_train, reduced_X_valid, y_train, y_valid))"
      ],
      "execution_count": 8,
      "outputs": [
        {
          "output_type": "stream",
          "text": [
            "MAE from Approach 1 (Drop columns with missing values):\n",
            "183550.22137772635\n"
          ],
          "name": "stdout"
        }
      ]
    },
    {
      "cell_type": "markdown",
      "metadata": {
        "id": "j-SBW8e1JeBU"
      },
      "source": [
        "### 2- A Better Option: Imputation"
      ]
    },
    {
      "cell_type": "code",
      "metadata": {
        "colab": {
          "base_uri": "https://localhost:8080/"
        },
        "id": "R0EWA9SlI5Qf",
        "outputId": "3907dd03-afdf-48ea-a0e1-c7de4f0310fe"
      },
      "source": [
        "from sklearn.impute import SimpleImputer\n",
        "\n",
        "# Imputation\n",
        "my_imputer = SimpleImputer()\n",
        "imputed_X_train = pd.DataFrame(my_imputer.fit_transform(X_train))\n",
        "imputed_X_valid = pd.DataFrame(my_imputer.transform(X_valid))\n",
        "\n",
        "# Imputation removed column names; put them back\n",
        "imputed_X_train.columns = X_train.columns\n",
        "imputed_X_valid.columns = X_valid.columns\n",
        "\n",
        "print(\"MAE from Approach 2 (Imputation):\")\n",
        "print(score_dataset(imputed_X_train, imputed_X_valid, y_train, y_valid))"
      ],
      "execution_count": 9,
      "outputs": [
        {
          "output_type": "stream",
          "text": [
            "MAE from Approach 2 (Imputation):\n",
            "178166.46269899711\n"
          ],
          "name": "stdout"
        }
      ]
    },
    {
      "cell_type": "markdown",
      "metadata": {
        "id": "B1Pst8mNJltr"
      },
      "source": [
        "### 3- An Extension To Imputation"
      ]
    },
    {
      "cell_type": "code",
      "metadata": {
        "colab": {
          "base_uri": "https://localhost:8080/"
        },
        "id": "qMoJpwBpIWg5",
        "outputId": "591093f9-0165-4018-ffb4-98dfad4602a7"
      },
      "source": [
        "# Make copy to avoid changing original data (when imputing)\n",
        "X_train_plus = X_train.copy()\n",
        "X_valid_plus = X_valid.copy()\n",
        "\n",
        "# Make new columns indicating what will be imputed\n",
        "for col in cols_with_missing:\n",
        "    X_train_plus[col + '_was_missing'] = X_train_plus[col].isnull()\n",
        "    X_valid_plus[col + '_was_missing'] = X_valid_plus[col].isnull()\n",
        "\n",
        "# Imputation\n",
        "my_imputer = SimpleImputer()\n",
        "imputed_X_train_plus = pd.DataFrame(my_imputer.fit_transform(X_train_plus))\n",
        "imputed_X_valid_plus = pd.DataFrame(my_imputer.transform(X_valid_plus))\n",
        "\n",
        "# Imputation removed column names; put them back\n",
        "imputed_X_train_plus.columns = X_train_plus.columns\n",
        "imputed_X_valid_plus.columns = X_valid_plus.columns\n",
        "\n",
        "print(\"MAE from Approach 3 (An Extension to Imputation):\")\n",
        "print(score_dataset(imputed_X_train_plus, imputed_X_valid_plus, y_train, y_valid))"
      ],
      "execution_count": 15,
      "outputs": [
        {
          "output_type": "stream",
          "text": [
            "MAE from Approach 3 (An Extension to Imputation):\n",
            "178927.503183954\n"
          ],
          "name": "stdout"
        }
      ]
    },
    {
      "cell_type": "code",
      "metadata": {
        "colab": {
          "base_uri": "https://localhost:8080/"
        },
        "id": "czBSMUAgKRCh",
        "outputId": "3b256f2b-c39e-4a4c-885e-00f911e5f803"
      },
      "source": [
        "cols_with_missing"
      ],
      "execution_count": 13,
      "outputs": [
        {
          "output_type": "execute_result",
          "data": {
            "text/plain": [
              "['Car', 'BuildingArea', 'YearBuilt']"
            ]
          },
          "metadata": {
            "tags": []
          },
          "execution_count": 13
        }
      ]
    },
    {
      "cell_type": "code",
      "metadata": {
        "colab": {
          "base_uri": "https://localhost:8080/",
          "height": 379
        },
        "id": "iAkQgUDEKGqY",
        "outputId": "957c09f1-e2c0-4a6f-baec-6f1a63369857"
      },
      "source": [
        "X_train_plus.head(10)"
      ],
      "execution_count": 12,
      "outputs": [
        {
          "output_type": "execute_result",
          "data": {
            "text/html": [
              "<div>\n",
              "<style scoped>\n",
              "    .dataframe tbody tr th:only-of-type {\n",
              "        vertical-align: middle;\n",
              "    }\n",
              "\n",
              "    .dataframe tbody tr th {\n",
              "        vertical-align: top;\n",
              "    }\n",
              "\n",
              "    .dataframe thead th {\n",
              "        text-align: right;\n",
              "    }\n",
              "</style>\n",
              "<table border=\"1\" class=\"dataframe\">\n",
              "  <thead>\n",
              "    <tr style=\"text-align: right;\">\n",
              "      <th></th>\n",
              "      <th>Rooms</th>\n",
              "      <th>Distance</th>\n",
              "      <th>Postcode</th>\n",
              "      <th>Bedroom2</th>\n",
              "      <th>Bathroom</th>\n",
              "      <th>Car</th>\n",
              "      <th>Landsize</th>\n",
              "      <th>BuildingArea</th>\n",
              "      <th>YearBuilt</th>\n",
              "      <th>Lattitude</th>\n",
              "      <th>Longtitude</th>\n",
              "      <th>Propertycount</th>\n",
              "      <th>Car_was_missing</th>\n",
              "      <th>BuildingArea_was_missing</th>\n",
              "      <th>YearBuilt_was_missing</th>\n",
              "    </tr>\n",
              "  </thead>\n",
              "  <tbody>\n",
              "    <tr>\n",
              "      <th>12167</th>\n",
              "      <td>1</td>\n",
              "      <td>5.0</td>\n",
              "      <td>3182.0</td>\n",
              "      <td>1.0</td>\n",
              "      <td>1.0</td>\n",
              "      <td>1.0</td>\n",
              "      <td>0.0</td>\n",
              "      <td>NaN</td>\n",
              "      <td>1940.0</td>\n",
              "      <td>-37.85984</td>\n",
              "      <td>144.9867</td>\n",
              "      <td>13240.0</td>\n",
              "      <td>False</td>\n",
              "      <td>True</td>\n",
              "      <td>False</td>\n",
              "    </tr>\n",
              "    <tr>\n",
              "      <th>6524</th>\n",
              "      <td>2</td>\n",
              "      <td>8.0</td>\n",
              "      <td>3016.0</td>\n",
              "      <td>2.0</td>\n",
              "      <td>2.0</td>\n",
              "      <td>1.0</td>\n",
              "      <td>193.0</td>\n",
              "      <td>NaN</td>\n",
              "      <td>NaN</td>\n",
              "      <td>-37.85800</td>\n",
              "      <td>144.9005</td>\n",
              "      <td>6380.0</td>\n",
              "      <td>False</td>\n",
              "      <td>True</td>\n",
              "      <td>True</td>\n",
              "    </tr>\n",
              "    <tr>\n",
              "      <th>8413</th>\n",
              "      <td>3</td>\n",
              "      <td>12.6</td>\n",
              "      <td>3020.0</td>\n",
              "      <td>3.0</td>\n",
              "      <td>1.0</td>\n",
              "      <td>1.0</td>\n",
              "      <td>555.0</td>\n",
              "      <td>NaN</td>\n",
              "      <td>NaN</td>\n",
              "      <td>-37.79880</td>\n",
              "      <td>144.8220</td>\n",
              "      <td>3755.0</td>\n",
              "      <td>False</td>\n",
              "      <td>True</td>\n",
              "      <td>True</td>\n",
              "    </tr>\n",
              "    <tr>\n",
              "      <th>2919</th>\n",
              "      <td>3</td>\n",
              "      <td>13.0</td>\n",
              "      <td>3046.0</td>\n",
              "      <td>3.0</td>\n",
              "      <td>1.0</td>\n",
              "      <td>1.0</td>\n",
              "      <td>265.0</td>\n",
              "      <td>NaN</td>\n",
              "      <td>1995.0</td>\n",
              "      <td>-37.70830</td>\n",
              "      <td>144.9158</td>\n",
              "      <td>8870.0</td>\n",
              "      <td>False</td>\n",
              "      <td>True</td>\n",
              "      <td>False</td>\n",
              "    </tr>\n",
              "    <tr>\n",
              "      <th>6043</th>\n",
              "      <td>3</td>\n",
              "      <td>13.3</td>\n",
              "      <td>3020.0</td>\n",
              "      <td>3.0</td>\n",
              "      <td>1.0</td>\n",
              "      <td>2.0</td>\n",
              "      <td>673.0</td>\n",
              "      <td>673.0</td>\n",
              "      <td>1970.0</td>\n",
              "      <td>-37.76230</td>\n",
              "      <td>144.8272</td>\n",
              "      <td>4217.0</td>\n",
              "      <td>False</td>\n",
              "      <td>False</td>\n",
              "      <td>False</td>\n",
              "    </tr>\n",
              "    <tr>\n",
              "      <th>547</th>\n",
              "      <td>5</td>\n",
              "      <td>9.7</td>\n",
              "      <td>3103.0</td>\n",
              "      <td>5.0</td>\n",
              "      <td>2.0</td>\n",
              "      <td>2.0</td>\n",
              "      <td>611.0</td>\n",
              "      <td>NaN</td>\n",
              "      <td>NaN</td>\n",
              "      <td>-37.81160</td>\n",
              "      <td>145.0789</td>\n",
              "      <td>5682.0</td>\n",
              "      <td>False</td>\n",
              "      <td>True</td>\n",
              "      <td>True</td>\n",
              "    </tr>\n",
              "    <tr>\n",
              "      <th>4655</th>\n",
              "      <td>4</td>\n",
              "      <td>9.9</td>\n",
              "      <td>3044.0</td>\n",
              "      <td>4.0</td>\n",
              "      <td>2.0</td>\n",
              "      <td>2.0</td>\n",
              "      <td>250.0</td>\n",
              "      <td>194.0</td>\n",
              "      <td>1983.0</td>\n",
              "      <td>-37.73190</td>\n",
              "      <td>144.9461</td>\n",
              "      <td>7485.0</td>\n",
              "      <td>False</td>\n",
              "      <td>False</td>\n",
              "      <td>False</td>\n",
              "    </tr>\n",
              "    <tr>\n",
              "      <th>6082</th>\n",
              "      <td>3</td>\n",
              "      <td>13.5</td>\n",
              "      <td>3020.0</td>\n",
              "      <td>3.0</td>\n",
              "      <td>1.0</td>\n",
              "      <td>4.0</td>\n",
              "      <td>700.0</td>\n",
              "      <td>NaN</td>\n",
              "      <td>NaN</td>\n",
              "      <td>-37.78450</td>\n",
              "      <td>144.8131</td>\n",
              "      <td>6763.0</td>\n",
              "      <td>False</td>\n",
              "      <td>True</td>\n",
              "      <td>True</td>\n",
              "    </tr>\n",
              "    <tr>\n",
              "      <th>5519</th>\n",
              "      <td>3</td>\n",
              "      <td>6.6</td>\n",
              "      <td>3011.0</td>\n",
              "      <td>3.0</td>\n",
              "      <td>1.0</td>\n",
              "      <td>1.0</td>\n",
              "      <td>283.0</td>\n",
              "      <td>NaN</td>\n",
              "      <td>1940.0</td>\n",
              "      <td>-37.80640</td>\n",
              "      <td>144.8944</td>\n",
              "      <td>2417.0</td>\n",
              "      <td>False</td>\n",
              "      <td>True</td>\n",
              "      <td>False</td>\n",
              "    </tr>\n",
              "    <tr>\n",
              "      <th>8571</th>\n",
              "      <td>4</td>\n",
              "      <td>13.8</td>\n",
              "      <td>3018.0</td>\n",
              "      <td>3.0</td>\n",
              "      <td>1.0</td>\n",
              "      <td>2.0</td>\n",
              "      <td>725.0</td>\n",
              "      <td>NaN</td>\n",
              "      <td>NaN</td>\n",
              "      <td>-37.86780</td>\n",
              "      <td>144.8160</td>\n",
              "      <td>5301.0</td>\n",
              "      <td>False</td>\n",
              "      <td>True</td>\n",
              "      <td>True</td>\n",
              "    </tr>\n",
              "  </tbody>\n",
              "</table>\n",
              "</div>"
            ],
            "text/plain": [
              "       Rooms  Distance  ...  BuildingArea_was_missing  YearBuilt_was_missing\n",
              "12167      1       5.0  ...                      True                  False\n",
              "6524       2       8.0  ...                      True                   True\n",
              "8413       3      12.6  ...                      True                   True\n",
              "2919       3      13.0  ...                      True                  False\n",
              "6043       3      13.3  ...                     False                  False\n",
              "547        5       9.7  ...                      True                   True\n",
              "4655       4       9.9  ...                     False                  False\n",
              "6082       3      13.5  ...                      True                   True\n",
              "5519       3       6.6  ...                      True                  False\n",
              "8571       4      13.8  ...                      True                   True\n",
              "\n",
              "[10 rows x 15 columns]"
            ]
          },
          "metadata": {
            "tags": []
          },
          "execution_count": 12
        }
      ]
    },
    {
      "cell_type": "code",
      "metadata": {
        "colab": {
          "base_uri": "https://localhost:8080/"
        },
        "id": "4Z4R7D9PImxC",
        "outputId": "43c9884d-a674-450a-8d06-a0cb0ad61d39"
      },
      "source": [
        "# Shape of training data (num_rows, num_columns)\n",
        "print(X_train.shape)\n",
        "\n",
        "# Number of missing values in each column of training data\n",
        "missing_val_count_by_column = (X_train.isnull().sum())\n",
        "print(missing_val_count_by_column[missing_val_count_by_column > 0])"
      ],
      "execution_count": 11,
      "outputs": [
        {
          "output_type": "stream",
          "text": [
            "(10864, 12)\n",
            "Car               49\n",
            "BuildingArea    5156\n",
            "YearBuilt       4307\n",
            "dtype: int64\n"
          ],
          "name": "stdout"
        }
      ]
    },
    {
      "cell_type": "markdown",
      "metadata": {
        "id": "ugs8VUADJ0Pm"
      },
      "source": [
        "#Conclusion\n",
        "As is common, imputing missing values (in Approach 2 and Approach 3) yielded better results, relative to when we simply dropped columns with missing values (in Approach 1)."
      ]
    }
  ]
}